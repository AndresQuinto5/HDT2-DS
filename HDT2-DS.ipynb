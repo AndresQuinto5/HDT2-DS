{
 "cells": [
  {
   "cell_type": "markdown",
   "id": "248b94fd",
   "metadata": {},
   "source": [
    "Hoja de trabajo 2 DataScience - Series de tiempo\n",
    "\n",
    "Andree Toledo\n",
    "Andres Quinto 18288\n",
    "\n"
   ]
  },
  {
   "cell_type": "code",
   "execution_count": null,
   "id": "96439817",
   "metadata": {},
   "outputs": [],
   "source": [
    "import pandas as pd\n",
    "import matplotlib.pyplot as plt\n",
    "import seaborn as sns\n",
    "import numpy as np\n",
    "from sklearn.preprocessing import StandardScaler\n",
    "from scipy import stats\n",
    "import matplotlib.cm as cm\n",
    "from factor_analyzer import calculate_bartlett_sphericity, calculate_kmo\n",
    "from sklearn.decomposition import PCA\n",
    "from sklearn.pipeline import make_pipeline\n",
    "from apyori import apriori\n",
    "from statsmodels.tsa.stattools import adfuller\n",
    "from statsmodels.tsa.seasonal import seasonal_decompose\n",
    "from statsmodels.tsa.arima_model import ARIMA\n",
    "from statsmodels.tsa.stattools import acf, pacf\n",
    "np.warnings.filterwarnings('ignore', category=np.VisibleDeprecationWarning)\n",
    "pd.set_option('display.max_rows', None)"
   ]
  },
  {
   "cell_type": "markdown",
   "id": "b42fb89e",
   "metadata": {},
   "source": [
    "Analisis Exploratorio"
   ]
  },
  {
   "cell_type": "code",
   "execution_count": null,
   "id": "42a9a426",
   "metadata": {},
   "outputs": [],
   "source": [
    "IMPORT = pd.read_excel('./IMPORTACION-VOLUMEN-2022-05.xlsx', skiprows=6)\n",
    "CONSUME = pd.read_excel('./CONSUMO-2022-05.xlsx', skiprows=6)\n",
    "# print(IMPORT.columns)\n",
    "# print(CONSUME.columns)"
   ]
  },
  {
   "cell_type": "markdown",
   "id": "5310f7e5",
   "metadata": {},
   "source": [
    "Pequeño fix para nombres de la columna"
   ]
  },
  {
   "cell_type": "code",
   "execution_count": null,
   "id": "2acebc1c",
   "metadata": {},
   "outputs": [],
   "source": [
    "IMPORT.rename(columns={'Gasolina superior': 'Gasolinasuperior','Gasolina regular': 'Gasolinaregular'}, inplace=True)\n",
    "CONSUME.rename(columns={'Gasolina superior': 'Gasolinasuperior','Gasolina regular': 'Gasolinaregular'}, inplace=True)"
   ]
  },
  {
   "cell_type": "code",
   "execution_count": null,
   "id": "0f68c010",
   "metadata": {},
   "outputs": [],
   "source": [
    "Relevantes=['Fecha', 'Gasolinasuperior', 'Gasolinaregular', 'Diesel']\n",
    "SinFecha=['Gasolina superior', 'Gasolina regular', 'Diesel']\n",
    "consumes = CONSUME[Relevantes]\n",
    "imports = IMPORT[Relevantes]\n",
    "\n",
    "\n",
    "# a partir de la linea 264 ya no se toma en relevancia para la interpretacion de datos\n",
    "CONSUME = CONSUME[:264]\n",
    "IMPORT = IMPORT[:264]\n",
    "consumes = consumes[:270]\n",
    "imports = imports[:270]"
   ]
  },
  {
   "cell_type": "code",
   "execution_count": null,
   "id": "2786be10",
   "metadata": {
    "scrolled": true
   },
   "outputs": [],
   "source": [
    "consumes.head(15)"
   ]
  },
  {
   "cell_type": "code",
   "execution_count": null,
   "id": "7cb7351d",
   "metadata": {},
   "outputs": [],
   "source": [
    "consumes.info()"
   ]
  },
  {
   "cell_type": "code",
   "execution_count": null,
   "id": "ea276c79",
   "metadata": {},
   "outputs": [],
   "source": [
    "imports.head(15)\n"
   ]
  },
  {
   "cell_type": "code",
   "execution_count": null,
   "id": "c1abd779",
   "metadata": {},
   "outputs": [],
   "source": [
    "imports.info()"
   ]
  },
  {
   "cell_type": "markdown",
   "id": "68160550",
   "metadata": {},
   "source": [
    "DATOS Y LIMPIEZA\n",
    "\n",
    "Los data sets contienen un resumen acerca del consumo e importacion de la gasolina en Guatemala en el periodo de enero 2001 hasta junio del 2022.\n",
    "\n",
    "Informacion como: galones de gasolina de super, regular y diesel consumidos e importados.\n",
    "\n",
    "EXPLORACION DE DATOS:\n",
    "\n",
    "Nuestras variables de interes son todas continuas (Super, regular, diesel y fecha). Para determinar su distribucion realizamos sus graficos correspondientes mas histogramas.\n",
    "\n",
    "Los datos presentan un sesgo hacia la derecha y no una distribucion normal."
   ]
  },
  {
   "cell_type": "markdown",
   "id": "e741c608",
   "metadata": {},
   "source": [
    "PARA IMPORTACION"
   ]
  },
  {
   "cell_type": "code",
   "execution_count": null,
   "id": "05cb9210",
   "metadata": {},
   "outputs": [],
   "source": [
    "for var in Relevantes:\n",
    "    sns.displot(imports[var], kde=True, color = 'lightcoral')"
   ]
  },
  {
   "cell_type": "markdown",
   "id": "30125462",
   "metadata": {},
   "source": [
    "PARA CONSUMOS"
   ]
  },
  {
   "cell_type": "code",
   "execution_count": null,
   "id": "ed7b827d",
   "metadata": {},
   "outputs": [],
   "source": [
    "for var in Relevantes:\n",
    "    sns.displot(consumes[var], kde=True, color='lightcoral')"
   ]
  },
  {
   "cell_type": "code",
   "execution_count": null,
   "id": "4c640685",
   "metadata": {},
   "outputs": [],
   "source": [
    "plt.hist(consumes.Gasolinaregular, color=\"lightcoral\")"
   ]
  },
  {
   "cell_type": "code",
   "execution_count": null,
   "id": "b6563774",
   "metadata": {},
   "outputs": [],
   "source": [
    "plt.hist(consumes.Gasolinasuperior, color=\"lightcoral\")\n"
   ]
  },
  {
   "cell_type": "code",
   "execution_count": null,
   "id": "fb6aeb3d",
   "metadata": {},
   "outputs": [],
   "source": [
    "plt.hist(consumes.Diesel, color=\"lightcoral\")"
   ]
  },
  {
   "cell_type": "code",
   "execution_count": null,
   "id": "1f8dd49a",
   "metadata": {},
   "outputs": [],
   "source": [
    "plt.hist(imports.Gasolinaregular, color=\"lightcoral\")"
   ]
  },
  {
   "cell_type": "code",
   "execution_count": null,
   "id": "2578b382",
   "metadata": {},
   "outputs": [],
   "source": [
    "plt.hist(imports.Gasolinasuperior, color=\"lightcoral\")"
   ]
  },
  {
   "cell_type": "code",
   "execution_count": null,
   "id": "e80faf08",
   "metadata": {},
   "outputs": [],
   "source": [
    "plt.hist(imports.Diesel, color=\"lightcoral\")"
   ]
  },
  {
   "cell_type": "code",
   "execution_count": null,
   "id": "e11026d7",
   "metadata": {},
   "outputs": [],
   "source": [
    "print(IMPORT.head())"
   ]
  },
  {
   "cell_type": "code",
   "execution_count": null,
   "id": "1a8d8239",
   "metadata": {},
   "outputs": [],
   "source": [
    "cols=[\"Fecha\"]\n",
    "IMPORT['date'] = pd.to_datetime(IMPORT[cols].apply(lambda x: '-'.join(x.values.astype(str)), axis=\"columns\"), format='%Y-%m', errors='ignore')\n",
    "CONSUME['date'] = pd.to_datetime(CONSUME[cols].apply(lambda x: '-'.join(x.values.astype(str)), axis=\"columns\"))"
   ]
  },
  {
   "cell_type": "markdown",
   "id": "221e2216",
   "metadata": {},
   "source": [
    "SERIES CONFORME TIEMPO\n",
    "\n",
    "Podemos apreciar que cada una de las graficas posee una tendencia, por lo cual no es constante en la media. Los consumos e importacion desde el año 2001 parace ir en aumento conforme los el tiempo. \n",
    "\n",
    "Se puede apreciar que los datasets poseen estacionalidad, sin embargo, la varianza en este caso parece no ser constante. \n",
    "\n",
    "Para las series de tiempo de importacion podemos apreciar que estas oscilan con mayor frecuencia y de una forma mas variada."
   ]
  },
  {
   "cell_type": "markdown",
   "id": "117b73ae",
   "metadata": {},
   "source": [
    "SERIES DE TIEMPO CONSUMOS"
   ]
  },
  {
   "cell_type": "code",
   "execution_count": null,
   "id": "1dca57e0",
   "metadata": {},
   "outputs": [],
   "source": [
    "CONSUME.plot(x='date', y='Gasolinasuperior', style='-')"
   ]
  },
  {
   "cell_type": "code",
   "execution_count": null,
   "id": "2d6c230a",
   "metadata": {},
   "outputs": [],
   "source": [
    "CONSUME.plot(x='date', y='Gasolinaregular', style='-')"
   ]
  },
  {
   "cell_type": "code",
   "execution_count": null,
   "id": "2b52fdbe",
   "metadata": {},
   "outputs": [],
   "source": [
    "CONSUME.plot(x='date', y='Diesel', style='-')"
   ]
  },
  {
   "cell_type": "markdown",
   "id": "77720738",
   "metadata": {},
   "source": [
    "SERIES DE IMPORTACION "
   ]
  },
  {
   "cell_type": "code",
   "execution_count": null,
   "id": "7c8e9574",
   "metadata": {},
   "outputs": [],
   "source": [
    "IMPORT.plot(x='date', y='Gasolinasuperior', style='-')"
   ]
  },
  {
   "cell_type": "code",
   "execution_count": null,
   "id": "71ba2e19",
   "metadata": {},
   "outputs": [],
   "source": [
    "IMPORT.plot(x='date', y='Gasolinaregular', style='-')"
   ]
  },
  {
   "cell_type": "code",
   "execution_count": null,
   "id": "a1a0f7ee",
   "metadata": {},
   "outputs": [],
   "source": [
    "IMPORT.plot(x='date', y='Diesel', style='-')"
   ]
  },
  {
   "cell_type": "markdown",
   "id": "9ee02386",
   "metadata": {},
   "source": [
    "CONJUNTO DE ENTRENAMIENTO Y DICK FULLER"
   ]
  },
  {
   "cell_type": "markdown",
   "id": "486cd623",
   "metadata": {},
   "source": [
    "Prueba de Dickey-Fuller para las gasolinas"
   ]
  },
  {
   "cell_type": "code",
   "execution_count": null,
   "id": "2b3fc41c",
   "metadata": {},
   "outputs": [],
   "source": [
    "train = int(len(consumes) * 0.7)\n",
    "entrenamientoConsumo = consumes[0:train]\n",
    "PruebaConsumo = consumes[train:len(consumes)]\n",
    "entrenamientoConsumo = entrenamientoConsumo.set_index(['Fecha'])\n",
    "PruebaConsumo = PruebaConsumo.set_index(['Fecha'])"
   ]
  },
  {
   "cell_type": "code",
   "execution_count": null,
   "id": "a23d9dc1",
   "metadata": {},
   "outputs": [],
   "source": [
    "testRegular = entrenamientoConsumo['Gasolinaregular']\n",
    "\n",
    "\n",
    "testSuper = entrenamientoConsumo['Gasolinasuperior']\n",
    "\n",
    "\n",
    "testDiesel = entrenamientoConsumo['Diesel']\n"
   ]
  },
  {
   "cell_type": "code",
   "execution_count": null,
   "id": "96bfbcab",
   "metadata": {},
   "outputs": [],
   "source": [
    "dfTest = adfuller(testRegular, autolag='AIC')\n",
    "salidaDf = pd.Series(dfTest[0:4], index=['Estadístico de prueba','p-value','# de retardos usados','# de observaciones usadas'])\n",
    "for key,value in dfTest[4].items():\n",
    "        salidaDf['Valor Crítico (%s)'%key] = value\n",
    "print(salidaDf)"
   ]
  },
  {
   "cell_type": "code",
   "execution_count": null,
   "id": "be8f0a6d",
   "metadata": {},
   "outputs": [],
   "source": [
    "dfTest = adfuller(testSuper, autolag='AIC')\n",
    "salidaDf = pd.Series(dfTest[0:4], index=['Estadístico de prueba','p-value','# de retardos usados','# de observaciones usadas'])\n",
    "for key,value in dfTest[4].items():\n",
    "        salidaDf['Valor Crítico (%s)'%key] = value\n",
    "print(salidaDf)"
   ]
  },
  {
   "cell_type": "code",
   "execution_count": null,
   "id": "328325f1",
   "metadata": {},
   "outputs": [],
   "source": [
    "dfTest = adfuller(testDiesel, autolag='AIC')\n",
    "salidaDf = pd.Series(dfTest[0:4], index=['Estadístico de prueba','p-value','# de retardos usados','# de observaciones usadas'])\n",
    "for key,value in dfTest[4].items():\n",
    "        salidaDf['Valor Crítico (%s)'%key] = value\n",
    "print(salidaDf)"
   ]
  },
  {
   "cell_type": "markdown",
   "id": "14a21712",
   "metadata": {},
   "source": [
    "Podemos ver que en los p-values obtuvimos todos mayores a 0.05 debido a esto, no se rechaza la hipotesis nula de la existencia de raices unitarias. Podemos concluir que la serie no es estacionaria en media."
   ]
  },
  {
   "cell_type": "markdown",
   "id": "d6d10fb0",
   "metadata": {},
   "source": [
    "Procedemos a descomponer en componentes:\n",
    "REF:\n",
    "https://www.statsmodels.org/dev/generated/statsmodels.tsa.seasonal.seasonal_decompose.html"
   ]
  },
  {
   "cell_type": "code",
   "execution_count": null,
   "id": "5d0fdcc3",
   "metadata": {},
   "outputs": [],
   "source": [
    "DeCompose = seasonal_decompose(testRegular, model='additive' , period=24,  two_sided=True, extrapolate_trend='freq') \n",
    "DeCompose.plot()\n",
    "DeCompose = seasonal_decompose(testSuper,  model='additive' , period=24,  two_sided=True, extrapolate_trend='freq')\n",
    "DeCompose.plot()\n",
    "DeCompose = seasonal_decompose(testDiesel, model='additive' , period=24,  two_sided=True, extrapolate_trend='freq')\n",
    "DeCompose.plot()"
   ]
  },
  {
   "cell_type": "markdown",
   "id": "f74717a7",
   "metadata": {},
   "source": [
    "Media y desviacion estandar para la gasolina super, regular y diesel"
   ]
  },
  {
   "cell_type": "code",
   "execution_count": null,
   "id": "1a723e31",
   "metadata": {},
   "outputs": [],
   "source": [
    "Origen = plt.plot(testRegular, label=\"Origen\")\n",
    "media = plt.plot(mediaMovil, label = 'Media')\n",
    "DE = plt.plot(deMovil, label = 'Desviación Estándar para gasolina regular')\n",
    "plt.title('Media y desviación estándar')\n",
    "plt.legend(loc='best')"
   ]
  },
  {
   "cell_type": "code",
   "execution_count": null,
   "id": "1c791a3e",
   "metadata": {},
   "outputs": [],
   "source": [
    "Origen = plt.plot(testSuper, label=\"Origen\")\n",
    "media = plt.plot(mediaMovil, label = 'Media')\n",
    "DE = plt.plot(deMovil, label = 'Desviación Estándar para gasolina super')\n",
    "plt.title('Media y desviación estándar')\n",
    "plt.legend(loc='best')\n"
   ]
  },
  {
   "cell_type": "code",
   "execution_count": null,
   "id": "64e9dd80",
   "metadata": {},
   "outputs": [],
   "source": [
    "Origen = plt.plot(testDiesel, label=\"Origen\")\n",
    "media = plt.plot(mediaMovil, label = 'Media')\n",
    "DE = plt.plot(deMovil, label = 'Desviación Estándar para Diesel')\n",
    "plt.title('Media y desviación estándar')\n",
    "plt.legend(loc='best')"
   ]
  }
 ],
 "metadata": {
  "kernelspec": {
   "display_name": "Python 3 (ipykernel)",
   "language": "python",
   "name": "python3"
  },
  "language_info": {
   "codemirror_mode": {
    "name": "ipython",
    "version": 3
   },
   "file_extension": ".py",
   "mimetype": "text/x-python",
   "name": "python",
   "nbconvert_exporter": "python",
   "pygments_lexer": "ipython3",
   "version": "3.9.10"
  },
  "vscode": {
   "interpreter": {
    "hash": "e564d67246d5099534aa7714d64a8d74a15bb81b74c1bf8e59a7287f11be8f80"
   }
  }
 },
 "nbformat": 4,
 "nbformat_minor": 5
}
