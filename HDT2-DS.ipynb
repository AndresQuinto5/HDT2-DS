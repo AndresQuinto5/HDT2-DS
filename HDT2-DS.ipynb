{
 "cells": [
  {
   "cell_type": "markdown",
   "id": "248b94fd",
   "metadata": {},
   "source": [
    "Hoja de trabajo 2 DataScience - Series de tiempo\n",
    "\n",
    "Andree Toledo\n",
    "Andres Quinto 18288\n",
    "\n"
   ]
  },
  {
   "cell_type": "code",
   "execution_count": null,
   "id": "96439817",
   "metadata": {},
   "outputs": [],
   "source": [
    "import pandas as pd\n",
    "import matplotlib.pyplot as plt\n",
    "import seaborn as sns\n",
    "import numpy as np\n",
    "from sklearn.preprocessing import StandardScaler\n",
    "from scipy import stats\n",
    "import matplotlib.cm as cm\n",
    "from factor_analyzer import calculate_bartlett_sphericity, calculate_kmo\n",
    "from sklearn.decomposition import PCA\n",
    "from sklearn.pipeline import make_pipeline\n",
    "from apyori import apriori\n",
    "np.warnings.filterwarnings('ignore', category=np.VisibleDeprecationWarning)\n",
    "pd.set_option('display.max_rows', None)"
   ]
  },
  {
   "cell_type": "markdown",
   "id": "b42fb89e",
   "metadata": {},
   "source": [
    "Analisis Exploratorio"
   ]
  },
  {
   "cell_type": "code",
   "execution_count": null,
   "id": "42a9a426",
   "metadata": {},
   "outputs": [],
   "source": [
    "IMPORT = pd.read_excel('./IMPORTACION-VOLUMEN-2022-05.xlsx', skiprows=6)\n",
    "CONSUME = pd.read_excel('./CONSUMO-2022-05.xlsx', skiprows=6)\n",
    "# print(IMPORT.columns)\n",
    "# print(CONSUME.columns)"
   ]
  },
  {
   "cell_type": "markdown",
   "id": "5310f7e5",
   "metadata": {},
   "source": [
    "Pequeño fix para nombres de la columna"
   ]
  },
  {
   "cell_type": "code",
   "execution_count": null,
   "id": "2acebc1c",
   "metadata": {},
   "outputs": [],
   "source": [
    "IMPORT.rename(columns={'Gasolina superior': 'Gasolinasuperior','Gasolina regular': 'Gasolinaregular'}, inplace=True)\n",
    "CONSUME.rename(columns={'Gasolina superior': 'Gasolinasuperior','Gasolina regular': 'Gasolinaregular'}, inplace=True)"
   ]
  },
  {
   "cell_type": "code",
   "execution_count": null,
   "id": "0f68c010",
   "metadata": {},
   "outputs": [],
   "source": [
    "Relevantes=['Fecha', 'Gasolinasuperior', 'Gasolinaregular', 'Diesel']\n",
    "SinFecha=['Gasolina superior', 'Gasolina regular', 'Diesel']\n",
    "consumes = CONSUME[Relevantes]\n",
    "imports = IMPORT[Relevantes]\n",
    "\n",
    "\n",
    "# a partir de la linea 270 ya no se toma en relevancia para la interpretacion de datos\n",
    "consumes = consumes[:270]\n",
    "imports = imports[:270]"
   ]
  },
  {
   "cell_type": "code",
   "execution_count": null,
   "id": "2786be10",
   "metadata": {
    "scrolled": true
   },
   "outputs": [],
   "source": [
    "consumes.head(15)"
   ]
  },
  {
   "cell_type": "code",
   "execution_count": 10,
   "id": "7cb7351d",
   "metadata": {},
   "outputs": [
    {
     "name": "stdout",
     "output_type": "stream",
     "text": [
      "<class 'pandas.core.frame.DataFrame'>\n",
      "RangeIndex: 270 entries, 0 to 269\n",
      "Data columns (total 4 columns):\n",
      " #   Column            Non-Null Count  Dtype \n",
      "---  ------            --------------  ----- \n",
      " 0   Fecha             270 non-null    object\n",
      " 1   Gasolinasuperior  270 non-null    object\n",
      " 2   Gasolinaregular   270 non-null    object\n",
      " 3   Diesel            270 non-null    object\n",
      "dtypes: object(4)\n",
      "memory usage: 8.6+ KB\n"
     ]
    }
   ],
   "source": [
    "consumes.info()"
   ]
  },
  {
   "cell_type": "code",
   "execution_count": null,
   "id": "ea276c79",
   "metadata": {},
   "outputs": [],
   "source": [
    "imports.head(15)\n"
   ]
  },
  {
   "cell_type": "code",
   "execution_count": 11,
   "id": "c1abd779",
   "metadata": {},
   "outputs": [
    {
     "name": "stdout",
     "output_type": "stream",
     "text": [
      "<class 'pandas.core.frame.DataFrame'>\n",
      "RangeIndex: 270 entries, 0 to 269\n",
      "Data columns (total 4 columns):\n",
      " #   Column            Non-Null Count  Dtype         \n",
      "---  ------            --------------  -----         \n",
      " 0   Fecha             264 non-null    datetime64[ns]\n",
      " 1   Gasolinasuperior  264 non-null    object        \n",
      " 2   Gasolinaregular   264 non-null    object        \n",
      " 3   Diesel            264 non-null    object        \n",
      "dtypes: datetime64[ns](1), object(3)\n",
      "memory usage: 8.6+ KB\n"
     ]
    }
   ],
   "source": [
    "imports.info()"
   ]
  },
  {
   "cell_type": "code",
   "execution_count": null,
   "id": "05cb9210",
   "metadata": {},
   "outputs": [],
   "source": [
    "for var in Relevantes:\n",
    "    sns.displot(imports[var], kde=True, color = 'lightcoral')"
   ]
  },
  {
   "cell_type": "code",
   "execution_count": null,
   "id": "ed7b827d",
   "metadata": {},
   "outputs": [],
   "source": [
    "for var in Relevantes:\n",
    "    sns.displot(consumes[var], kde=True, color='lightcoral')"
   ]
  }
 ],
 "metadata": {
  "kernelspec": {
   "display_name": "Python 3 (ipykernel)",
   "language": "python",
   "name": "python3"
  },
  "language_info": {
   "codemirror_mode": {
    "name": "ipython",
    "version": 3
   },
   "file_extension": ".py",
   "mimetype": "text/x-python",
   "name": "python",
   "nbconvert_exporter": "python",
   "pygments_lexer": "ipython3",
   "version": "3.9.10"
  },
  "vscode": {
   "interpreter": {
    "hash": "e564d67246d5099534aa7714d64a8d74a15bb81b74c1bf8e59a7287f11be8f80"
   }
  }
 },
 "nbformat": 4,
 "nbformat_minor": 5
}
